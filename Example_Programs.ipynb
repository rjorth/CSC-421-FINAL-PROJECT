{
 "cells": [
  {
   "cell_type": "code",
   "execution_count": 2,
   "metadata": {},
   "outputs": [
    {
     "name": "stdout",
     "output_type": "stream",
     "text": [
      "1, 2, 3, 4, 5, "
     ]
    }
   ],
   "source": [
    "#for loops\n",
    "for i in 1:5 \n",
    "    print(i, \", \")\n",
    "end "
   ]
  },
  {
   "cell_type": "code",
   "execution_count": 3,
   "metadata": {},
   "outputs": [
    {
     "name": "stdout",
     "output_type": "stream",
     "text": [
      "Looping...\n",
      "0\n",
      "1\n",
      "2\n",
      "3\n",
      "4\n",
      "5\n",
      "6\n",
      "7\n",
      "8\n",
      "9\n",
      "10\n",
      "Loop finished.\n"
     ]
    }
   ],
   "source": [
    "println(\"Looping...\")\n",
    "for i in 0:10\n",
    "    println(i)\n",
    "end\n",
    "println(\"Loop finished.\")"
   ]
  },
  {
   "cell_type": "code",
   "execution_count": 4,
   "metadata": {},
   "outputs": [
    {
     "data": {
      "text/plain": [
       "5-element Array{Int64,1}:\n",
       " 1\n",
       " 2\n",
       " 3\n",
       " 4\n",
       " 5"
      ]
     },
     "execution_count": 4,
     "metadata": {},
     "output_type": "execute_result"
    }
   ],
   "source": [
    "#arrays\n",
    "c = collect(1:5)"
   ]
  },
  {
   "cell_type": "code",
   "execution_count": 5,
   "metadata": {},
   "outputs": [
    {
     "name": "stdout",
     "output_type": "stream",
     "text": [
      "[1, 2, 3, 4, 5]\n"
     ]
    }
   ],
   "source": [
    "println(c)"
   ]
  },
  {
   "cell_type": "code",
   "execution_count": 16,
   "metadata": {},
   "outputs": [
    {
     "name": "stdout",
     "output_type": "stream",
     "text": [
      "Julia begins indexing at 1 instead of 0.\n",
      "This is an enumeration of an array.\n",
      "1: the\n",
      "2: quick\n",
      "3: brown\n",
      "4: fox\n",
      "5: jumps\n",
      "6: over\n",
      "7: the\n",
      "8: lazy\n",
      "9: dog\n"
     ]
    }
   ],
   "source": [
    "#evidence of indexing at 1 using enumerate \n",
    "my_array = [\"the\", \"quick\", \"brown\", \"fox\", \"jumps\",\"over\",\"the\",\"lazy\",\"dog\"]\n",
    "println(\"Julia begins indexing at 1 instead of 0.\\nThis is an enumeration of an array.\")\n",
    "for (index, value) in enumerate(my_array)\n",
    "    println(index, \": \", value)\n",
    "end\n",
    "\n",
    "\n",
    "    "
   ]
  },
  {
   "cell_type": "code",
   "execution_count": 4,
   "metadata": {},
   "outputs": [
    {
     "name": "stderr",
     "output_type": "stream",
     "text": [
      "\u001b[1m\u001b[36mINFO: \u001b[39m\u001b[22m\u001b[36mPkg operations are not possible on JuliaBox. Please use the \"Packages\" menu at the top of the main screen.\n",
      "\u001b[39m"
     ]
    }
   ],
   "source": [
    "Pkg.add(\"Winston\")"
   ]
  },
  {
   "cell_type": "code",
   "execution_count": null,
   "metadata": {},
   "outputs": [],
   "source": []
  },
  {
   "cell_type": "code",
   "execution_count": null,
   "metadata": {},
   "outputs": [],
   "source": []
  },
  {
   "cell_type": "code",
   "execution_count": null,
   "metadata": {},
   "outputs": [],
   "source": []
  }
 ],
 "metadata": {
  "kernelspec": {
   "display_name": "Julia 0.6.4",
   "language": "julia",
   "name": "julia-0.6"
  },
  "language_info": {
   "file_extension": ".jl",
   "mimetype": "application/julia",
   "name": "julia",
   "version": "0.6.4"
  }
 },
 "nbformat": 4,
 "nbformat_minor": 2
}
